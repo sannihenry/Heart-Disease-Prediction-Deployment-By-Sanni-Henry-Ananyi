{
 "cells": [
  {
   "cell_type": "code",
   "execution_count": 22,
   "id": "137a871a",
   "metadata": {},
   "outputs": [],
   "source": [
    "import warnings\n",
    "warnings.filterwarnings(\"ignore\")"
   ]
  },
  {
   "cell_type": "code",
   "execution_count": 23,
   "id": "a79fe8bd",
   "metadata": {},
   "outputs": [],
   "source": [
    "import pandas as pd\n",
    "import numpy as np\n",
    "import matplotlib.pyplot as plt\n",
    "import seaborn as sns\n",
    "\n",
    "import ipywidgets as widgets\n",
    "from ipywidgets import HTML\n",
    "from IPython.display import display, clear_output"
   ]
  },
  {
   "cell_type": "code",
   "execution_count": 24,
   "id": "256ab62d",
   "metadata": {},
   "outputs": [],
   "source": [
    "#load the data\n",
    "df=pd.read_csv('heart.csv')"
   ]
  },
  {
   "cell_type": "code",
   "execution_count": 25,
   "id": "7d143bb9",
   "metadata": {},
   "outputs": [],
   "source": [
    "#drop all the colums with empty values\n",
    "df=df.dropna(axis=1)"
   ]
  },
  {
   "cell_type": "code",
   "execution_count": 26,
   "id": "17c316bf",
   "metadata": {},
   "outputs": [],
   "source": [
    "from sklearn.preprocessing import LabelEncoder\n",
    "labelencoder_Y = LabelEncoder()\n",
    "df.iloc[:,1]=labelencoder_Y.fit_transform(df.iloc[:,1].values)"
   ]
  },
  {
   "cell_type": "code",
   "execution_count": 27,
   "id": "1ef0da97",
   "metadata": {},
   "outputs": [],
   "source": [
    "#split the dataset into independent (X) and dependent column (Y) data sets.\n",
    "#Y has the dagonostic whether the patient have heart diease or not.While X have the features for heart disease  detection\n",
    "X = df.iloc[:,2:14].values\n",
    "Y=df.iloc[:,1].values"
   ]
  },
  {
   "cell_type": "code",
   "execution_count": 28,
   "id": "9fb71749",
   "metadata": {},
   "outputs": [],
   "source": [
    "#Split the dataset into 75% training and 25% testing\n",
    "from sklearn.model_selection import train_test_split\n",
    "X_train, X_test, Y_train, Y_test=train_test_split(X, Y, test_size=0.25 ,random_state =0)"
   ]
  },
  {
   "cell_type": "code",
   "execution_count": 29,
   "id": "8f2784aa",
   "metadata": {},
   "outputs": [],
   "source": [
    "#Scale the data (Feature scaling)\n",
    "from sklearn.preprocessing import StandardScaler\n",
    "sc=StandardScaler()\n",
    "X_train=sc.fit_transform(X_train)\n",
    "X_test=sc.fit_transform(X_test)"
   ]
  },
  {
   "cell_type": "code",
   "execution_count": 30,
   "id": "9d9d9794",
   "metadata": {},
   "outputs": [],
   "source": [
    "#create a function for the models\n",
    "def models(X_train, Y_train):\n",
    "    \n",
    "    #logistic Regression\n",
    "    from sklearn.linear_model import LogisticRegression\n",
    "    log=LogisticRegression(random_state=0)\n",
    "    log.fit(X_train, Y_train)\n",
    "    \n",
    "    #Decision Tree classicifier\n",
    "    from sklearn.tree import DecisionTreeClassifier\n",
    "    tree=DecisionTreeClassifier(criterion= 'entropy', random_state=0)\n",
    "    tree.fit(X_train,Y_train)\n",
    "    \n",
    "    #Random Forest Classifier\n",
    "    from sklearn.ensemble import RandomForestClassifier\n",
    "    forest= RandomForestClassifier(n_estimators = 10, criterion='entropy', random_state=0)\n",
    "    forest.fit(X_train,Y_train)\n",
    "    \n",
    "    #Print the models Accuracy of the data\n",
    "    print('[0] Logistic Regression training accuracy:',log.score(X_train, Y_train))\n",
    "    print('[1] Decision Tree training accuracy:',tree.score(X_train, Y_train))\n",
    "    print('[2] Random Forest Classifier training accuracy:',forest.score(X_train, Y_train))\n",
    "    \n",
    "    return log, tree,forest"
   ]
  },
  {
   "cell_type": "code",
   "execution_count": 31,
   "id": "999ad47d",
   "metadata": {},
   "outputs": [
    {
     "data": {
      "application/vnd.jupyter.widget-view+json": {
       "model_id": "463bd7d374b443989cb6d3eee685497a",
       "version_major": 2,
       "version_minor": 0
      },
      "text/plain": [
       "Image(value=b'\\xff\\xd8\\xff\\xe0\\x00\\x10JFIF\\x00\\x01\\x01\\x00\\x00\\x01\\x00\\x01\\x00\\x00\\xff\\xdb\\x00\\x84\\x00\\x02\\x02…"
      ]
     },
     "metadata": {},
     "output_type": "display_data"
    },
    {
     "data": {
      "application/vnd.jupyter.widget-view+json": {
       "model_id": "6eecd4400286493bb5706b96f07e3fe8",
       "version_major": 2,
       "version_minor": 0
      },
      "text/plain": [
       "HTML(value='<h1>Heart Attack Prediction Software</h1>')"
      ]
     },
     "metadata": {},
     "output_type": "display_data"
    }
   ],
   "source": [
    "images=open('heart_attack.jpg','rb').read()\n",
    "wi1 = widgets.Image(value=images, format='jpg', width=300, height=400)\n",
    "\n",
    "h1=HTML(value='<h1>Heart Attack Prediction Software</h1>')\n",
    "display(wi1,h1)"
   ]
  },
  {
   "cell_type": "code",
   "execution_count": 32,
   "id": "dc7f4648",
   "metadata": {},
   "outputs": [
    {
     "name": "stdout",
     "output_type": "stream",
     "text": [
      "[0] Logistic Regression training accuracy: 0.7136563876651982\n",
      "[1] Decision Tree training accuracy: 1.0\n",
      "[2] Random Forest Classifier training accuracy: 0.986784140969163\n"
     ]
    }
   ],
   "source": [
    "# here we will be getting of the models\n",
    "model = models(X_train, Y_train)"
   ]
  },
  {
   "cell_type": "code",
   "execution_count": 33,
   "id": "4ee0f653",
   "metadata": {},
   "outputs": [],
   "source": [
    "#Show another way to get metrics of the models\n",
    "#from sklearn.metrics import classification_report\n",
    "#from sklearn.metrics import accuracy_score\n",
    "\n",
    "#for i in range (len (model)): \n",
    "  #  print('Model',i)\n",
    "  #  print(classification_report(Y_test, model[i].predict(X_test)))\n",
    "   # print(accuracy_score(Y_test, model[i].predict(X_test)))\n",
    "   # print()"
   ]
  },
  {
   "cell_type": "code",
   "execution_count": 34,
   "id": "7cd1ea05",
   "metadata": {},
   "outputs": [],
   "source": [
    "#Print the prediction of the Radmon Forest Classifer Model\n",
    "pred = model[2].predict(X_test)"
   ]
  },
  {
   "cell_type": "code",
   "execution_count": 35,
   "id": "74a7226c",
   "metadata": {},
   "outputs": [
    {
     "data": {
      "application/vnd.jupyter.widget-view+json": {
       "model_id": "473479b70bfd4e0a91b40ac92096af0d",
       "version_major": 2,
       "version_minor": 0
      },
      "text/plain": [
       "Label(value='age')"
      ]
     },
     "metadata": {},
     "output_type": "display_data"
    },
    {
     "data": {
      "application/vnd.jupyter.widget-view+json": {
       "model_id": "8a95cc81804542328839412944248b62",
       "version_major": 2,
       "version_minor": 0
      },
      "text/plain": [
       "IntText(value=29)"
      ]
     },
     "metadata": {},
     "output_type": "display_data"
    },
    {
     "data": {
      "application/vnd.jupyter.widget-view+json": {
       "model_id": "4548e1f843ee4d5aba82abab0ed1edce",
       "version_major": 2,
       "version_minor": 0
      },
      "text/plain": [
       "Label(value='sex')"
      ]
     },
     "metadata": {},
     "output_type": "display_data"
    },
    {
     "data": {
      "application/vnd.jupyter.widget-view+json": {
       "model_id": "687e06d1a7d74b3b9179cc0daf3bbffa",
       "version_major": 2,
       "version_minor": 0
      },
      "text/plain": [
       "IntText(value=1)"
      ]
     },
     "metadata": {},
     "output_type": "display_data"
    },
    {
     "data": {
      "application/vnd.jupyter.widget-view+json": {
       "model_id": "1c815792eee44baea7903870b57a6e29",
       "version_major": 2,
       "version_minor": 0
      },
      "text/plain": [
       "Label(value='cp')"
      ]
     },
     "metadata": {},
     "output_type": "display_data"
    },
    {
     "data": {
      "application/vnd.jupyter.widget-view+json": {
       "model_id": "ab22f59fec75432abcdfdc859f61cfa0",
       "version_major": 2,
       "version_minor": 0
      },
      "text/plain": [
       "IntText(value=3)"
      ]
     },
     "metadata": {},
     "output_type": "display_data"
    },
    {
     "data": {
      "application/vnd.jupyter.widget-view+json": {
       "model_id": "f3592f01b35a4d319f8dacb369245e8b",
       "version_major": 2,
       "version_minor": 0
      },
      "text/plain": [
       "Label(value='trtbps')"
      ]
     },
     "metadata": {},
     "output_type": "display_data"
    },
    {
     "data": {
      "application/vnd.jupyter.widget-view+json": {
       "model_id": "1a1bae1803ff4dbca9136aaabb7c7392",
       "version_major": 2,
       "version_minor": 0
      },
      "text/plain": [
       "IntText(value=110)"
      ]
     },
     "metadata": {},
     "output_type": "display_data"
    },
    {
     "data": {
      "application/vnd.jupyter.widget-view+json": {
       "model_id": "aadd29e8089a46e78ced2f355870392b",
       "version_major": 2,
       "version_minor": 0
      },
      "text/plain": [
       "Label(value='chol')"
      ]
     },
     "metadata": {},
     "output_type": "display_data"
    },
    {
     "data": {
      "application/vnd.jupyter.widget-view+json": {
       "model_id": "3d26b6ac9db14251ab66d4599fe8c6d4",
       "version_major": 2,
       "version_minor": 0
      },
      "text/plain": [
       "IntText(value=168)"
      ]
     },
     "metadata": {},
     "output_type": "display_data"
    },
    {
     "data": {
      "application/vnd.jupyter.widget-view+json": {
       "model_id": "221e082903e84dfeb59570ae2d3c59b7",
       "version_major": 2,
       "version_minor": 0
      },
      "text/plain": [
       "Label(value='fbs')"
      ]
     },
     "metadata": {},
     "output_type": "display_data"
    },
    {
     "data": {
      "application/vnd.jupyter.widget-view+json": {
       "model_id": "76277f8d78564aa98decd2b833a14d89",
       "version_major": 2,
       "version_minor": 0
      },
      "text/plain": [
       "IntText(value=0)"
      ]
     },
     "metadata": {},
     "output_type": "display_data"
    },
    {
     "data": {
      "application/vnd.jupyter.widget-view+json": {
       "model_id": "9cd834988cf64ccb8dac4445037c3940",
       "version_major": 2,
       "version_minor": 0
      },
      "text/plain": [
       "Label(value='resteg')"
      ]
     },
     "metadata": {},
     "output_type": "display_data"
    },
    {
     "data": {
      "application/vnd.jupyter.widget-view+json": {
       "model_id": "1d82ab936e424a038519f3f1199d7a75",
       "version_major": 2,
       "version_minor": 0
      },
      "text/plain": [
       "IntText(value=0)"
      ]
     },
     "metadata": {},
     "output_type": "display_data"
    },
    {
     "data": {
      "application/vnd.jupyter.widget-view+json": {
       "model_id": "b5863348bd864ef79a61c16c938aeaad",
       "version_major": 2,
       "version_minor": 0
      },
      "text/plain": [
       "Label(value='Thalachh')"
      ]
     },
     "metadata": {},
     "output_type": "display_data"
    },
    {
     "data": {
      "application/vnd.jupyter.widget-view+json": {
       "model_id": "a5c8785b574446bb9901614bdc89a675",
       "version_major": 2,
       "version_minor": 0
      },
      "text/plain": [
       "IntText(value=71)"
      ]
     },
     "metadata": {},
     "output_type": "display_data"
    },
    {
     "data": {
      "application/vnd.jupyter.widget-view+json": {
       "model_id": "ad863e93366e458a8c643dd1bd402990",
       "version_major": 2,
       "version_minor": 0
      },
      "text/plain": [
       "Label(value='exng')"
      ]
     },
     "metadata": {},
     "output_type": "display_data"
    },
    {
     "data": {
      "application/vnd.jupyter.widget-view+json": {
       "model_id": "f962b20266014a3cb902a96744456af8",
       "version_major": 2,
       "version_minor": 0
      },
      "text/plain": [
       "IntText(value=0)"
      ]
     },
     "metadata": {},
     "output_type": "display_data"
    },
    {
     "data": {
      "application/vnd.jupyter.widget-view+json": {
       "model_id": "073af3ae7ef4416ab9a82abfb01051de",
       "version_major": 2,
       "version_minor": 0
      },
      "text/plain": [
       "Label(value='oldpeak')"
      ]
     },
     "metadata": {},
     "output_type": "display_data"
    },
    {
     "data": {
      "application/vnd.jupyter.widget-view+json": {
       "model_id": "689a4595c5ad44fa8c620f5257a17aea",
       "version_major": 2,
       "version_minor": 0
      },
      "text/plain": [
       "FloatText(value=3.5)"
      ]
     },
     "metadata": {},
     "output_type": "display_data"
    },
    {
     "data": {
      "application/vnd.jupyter.widget-view+json": {
       "model_id": "073988a12b93488c9dccc16f87cd2d60",
       "version_major": 2,
       "version_minor": 0
      },
      "text/plain": [
       "Label(value='slp')"
      ]
     },
     "metadata": {},
     "output_type": "display_data"
    },
    {
     "data": {
      "application/vnd.jupyter.widget-view+json": {
       "model_id": "dc44aeceacf343c2889234244552858a",
       "version_major": 2,
       "version_minor": 0
      },
      "text/plain": [
       "IntText(value=0)"
      ]
     },
     "metadata": {},
     "output_type": "display_data"
    },
    {
     "data": {
      "application/vnd.jupyter.widget-view+json": {
       "model_id": "1c43f1f24c2643bcb5eb43bb46e465df",
       "version_major": 2,
       "version_minor": 0
      },
      "text/plain": [
       "Label(value='caa')"
      ]
     },
     "metadata": {},
     "output_type": "display_data"
    },
    {
     "data": {
      "application/vnd.jupyter.widget-view+json": {
       "model_id": "819fee110d064d2683337ddd0f9c91ff",
       "version_major": 2,
       "version_minor": 0
      },
      "text/plain": [
       "IntText(value=0)"
      ]
     },
     "metadata": {},
     "output_type": "display_data"
    },
    {
     "data": {
      "application/vnd.jupyter.widget-view+json": {
       "model_id": "f07040889e194b89bb9c06b29f0d16b5",
       "version_major": 2,
       "version_minor": 0
      },
      "text/plain": [
       "Label(value='thall')"
      ]
     },
     "metadata": {},
     "output_type": "display_data"
    },
    {
     "data": {
      "application/vnd.jupyter.widget-view+json": {
       "model_id": "9bf86b3f9c094f1bbf7daf848bf8095a",
       "version_major": 2,
       "version_minor": 0
      },
      "text/plain": [
       "IntText(value=0)"
      ]
     },
     "metadata": {},
     "output_type": "display_data"
    }
   ],
   "source": [
    "agetext=widgets.Label('age')                  \n",
    "age=widgets.IntText(value=29)\n",
    "display(agetext,age)\n",
    "\n",
    "sextext=widgets.Label('sex')                   \n",
    "sex=widgets.IntText(value=1)\n",
    "display(sextext,sex)\n",
    "\n",
    "cptext=widgets.Label('cp')                \n",
    "cp=widgets.IntText(value=3)\n",
    "display(cptext,cp)\n",
    "\n",
    "trtbpstext=widgets.Label('trtbps')\n",
    "trtbps=widgets.IntText(value=110)\n",
    "display(trtbpstext,trtbps)\n",
    "\n",
    "choltext=widgets.Label('chol')\n",
    "chol=widgets.IntText(value=168)\n",
    "display(choltext,chol)\n",
    "\n",
    "fbstext=widgets.Label('fbs')\n",
    "fbs=widgets.IntText(value=0)\n",
    "display(fbstext,fbs)\n",
    "\n",
    "restegtext=widgets.Label('resteg')\n",
    "resteg=widgets.IntText(value=0)\n",
    "display(restegtext,resteg)\n",
    "\n",
    "Thalachhtext=widgets.Label('Thalachh')\n",
    "Thalachh=widgets.IntText(value=71)\n",
    "display(Thalachhtext,Thalachh)\n",
    "\n",
    "exngtext=widgets.Label('exng')\n",
    "exng=widgets.IntText(value=0)\n",
    "display(exngtext,exng)\n",
    "\n",
    "oldpeaktext=widgets.Label('oldpeak')\n",
    "oldpeak=widgets.FloatText(value=3.5)\n",
    "display(oldpeaktext,oldpeak)\n",
    "\n",
    "slptext=widgets.Label('slp')                  \n",
    "slp=widgets.IntText(value=0)\n",
    "display(slptext,slp)\n",
    "\n",
    "caatext=widgets.Label('caa')                  \n",
    "caa=widgets.IntText(value=0)\n",
    "display(caatext,caa)\n",
    "\n",
    "thalltext=widgets.Label('thall')                  \n",
    "thall=widgets.IntText(value=0)\n",
    "display(thalltext,thall)"
   ]
  },
  {
   "cell_type": "code",
   "execution_count": 36,
   "id": "acae045a",
   "metadata": {},
   "outputs": [],
   "source": [
    "age=age.value\n",
    "           \n",
    "sex=sex.value\n",
    "\n",
    "cp=cp.value\n",
    "             \n",
    "trtbps=trtbps.value\n",
    "\n",
    "chol=chol.value\n",
    "\n",
    "fbs=fbs.value\n",
    "\n",
    "resteg=resteg.value\n",
    "\n",
    "Thalachh=Thalachh.value\n",
    "\n",
    "exng=exng.value\n",
    "\n",
    "oldpeak=oldpeak.value\n",
    "\n",
    "slp=slp.value\n",
    "\n",
    "caa=caa.value\n",
    "\n",
    "thall=thall.value"
   ]
  },
  {
   "cell_type": "code",
   "execution_count": 37,
   "id": "00b22643",
   "metadata": {},
   "outputs": [],
   "source": [
    "arr={'age':[age],'sex':[sex],'cp':[cp],'trtbps':[trtbps],'chol':[chol],'resteg':[resteg],'Thalachh':[Thalachh],\n",
    "     'exng':[exng],'oldpeak':[oldpeak],'slp':[slp],'caa':[caa],'thall':[thall]}\n",
    "\n",
    "\n",
    "dg=pd.DataFrame(arr)\n",
    "#dg=df.dropna(axis=1)\n",
    "#ouputforme=str(arr)\n",
    "#h=HTML(value=ouputforme)"
   ]
  },
  {
   "cell_type": "code",
   "execution_count": 38,
   "id": "8efea238",
   "metadata": {},
   "outputs": [],
   "source": [
    "#split the dataset into independent (X) and dependent column (Y) data sets.\n",
    "#Y has the dagonostic whether the patient have cancer or not.While X have the features for cancer detection\n",
    "X = df.iloc[:,0:12].values\n",
    "Y=df.iloc[:,1].values"
   ]
  },
  {
   "cell_type": "code",
   "execution_count": 39,
   "id": "b144dfbc",
   "metadata": {},
   "outputs": [],
   "source": [
    "#Show another way to get metrics of the models\n",
    "from sklearn.metrics import classification_report\n",
    "from sklearn.metrics import accuracy_score\n",
    "\n",
    "\n",
    "#for i in range (len (model)): \n",
    "  #  print('Model',i)\n",
    "  #  print(classification_report(Y, model[i].predict(X)))\n",
    "  #  print(accuracy_score(Y, model[i].predict(X)))\n",
    "   # print()"
   ]
  },
  {
   "cell_type": "code",
   "execution_count": 40,
   "id": "003f4546",
   "metadata": {},
   "outputs": [
    {
     "data": {
      "application/vnd.jupyter.widget-view+json": {
       "model_id": "decd3b1ff0bf4e588385d415262aa8e6",
       "version_major": 2,
       "version_minor": 0
      },
      "text/plain": [
       "VBox(children=(Button(description='Enter', style=ButtonStyle()), Output()))"
      ]
     },
     "metadata": {},
     "output_type": "display_data"
    }
   ],
   "source": [
    "button = widgets.Button(description='Enter')\n",
    "out = widgets.Output()\n",
    "def on_button_clicked(_):\n",
    "      # \"linking function with output\"\n",
    "      with out:\n",
    "          # what happens when we press the button\n",
    "          clear_output()\n",
    "          print('You Entered in the following numbers')\n",
    "          display(dg)\n",
    "          for i in range (len (model)): \n",
    "            print('Model',i)\n",
    "            print(classification_report(Y, model[i].predict(X)))\n",
    "            print(accuracy_score(Y, model[i].predict(X)))\n",
    "            print()\n",
    "# linking button and function together using a button's method\n",
    "button.on_click(on_button_clicked)\n",
    "# displaying button and its output together\n",
    "widgets.VBox([button,out])"
   ]
  },
  {
   "cell_type": "code",
   "execution_count": 41,
   "id": "0af7d1cb",
   "metadata": {},
   "outputs": [],
   "source": [
    "#=pd.DataFrame(arr)\n",
    "#pred = model.predict(arr)\n",
    "#print(pred)"
   ]
  },
  {
   "cell_type": "code",
   "execution_count": 42,
   "id": "11c74d1d",
   "metadata": {},
   "outputs": [
    {
     "name": "stdout",
     "output_type": "stream",
     "text": [
      "Note: you may need to restart the kernel to use updated packages.\n"
     ]
    }
   ],
   "source": [
    "pip freeze > requirements.txt"
   ]
  },
  {
   "cell_type": "code",
   "execution_count": null,
   "id": "9a8cba10",
   "metadata": {},
   "outputs": [],
   "source": []
  }
 ],
 "metadata": {
  "kernelspec": {
   "display_name": "Python 3",
   "language": "python",
   "name": "python3"
  },
  "language_info": {
   "codemirror_mode": {
    "name": "ipython",
    "version": 3
   },
   "file_extension": ".py",
   "mimetype": "text/x-python",
   "name": "python",
   "nbconvert_exporter": "python",
   "pygments_lexer": "ipython3",
   "version": "3.8.8"
  }
 },
 "nbformat": 4,
 "nbformat_minor": 5
}
